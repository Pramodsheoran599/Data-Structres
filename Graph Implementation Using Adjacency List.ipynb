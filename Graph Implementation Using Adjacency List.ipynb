{
 "cells": [
  {
   "cell_type": "markdown",
   "id": "13b4f10d",
   "metadata": {},
   "source": [
    "### Graph Implementation Using Adjacency List"
   ]
  },
  {
   "cell_type": "code",
   "execution_count": 87,
   "id": "6f31000a",
   "metadata": {},
   "outputs": [],
   "source": [
    "class Graph:\n",
    "    def __init__(self):\n",
    "        self.num_of_nodes = 0\n",
    "        self.adjacency_list = {}\n",
    "    \n",
    "    \n",
    "    def addVertex(self, node):\n",
    "        \"\"\"Add a Vertex/Node to the Graph.\"\"\"\n",
    "        if node in self.adjacency_list:\n",
    "            print(\"Error, Node already Present in the Graph\")\n",
    "            return\n",
    "        else: \n",
    "            self.adjacency_list[node] = []\n",
    "            self.num_of_nodes += 1\n",
    "            \n",
    "            \n",
    "    def addEdge(self, node_1, node_2):\n",
    "        \"\"\"Add a connection between two Nodes in the Graph\"\"\"\n",
    "        \n",
    "        if node_1 not in self.adjacency_list:\n",
    "            print(f\"Error, Node {node_1} not Present in the Graph\")\n",
    "        elif node_2 not in self.adjacency_list:\n",
    "            print(f\"Error, Node {node_2} not Present in the Graph\")\n",
    "        else:\n",
    "            self.adjacency_list[node_1].append(node_2)\n",
    "            self.adjacency_list[node_2].append(node_1)\n",
    "    \n",
    "    def showConnections(self):\n",
    "        \"\"\"Display all the edge connections of the nodes in the graph.\"\"\"\n",
    "        \n",
    "        print(\"Node Connections in the Graph.\")\n",
    "        nodes = list(self.adjacency_list.keys())\n",
    "        connections = list(self.adjacency_list.values())\n",
    "        \n",
    "        for i in range(self.num_of_nodes):\n",
    "            print(nodes[i], \" --> \", connections[i])"
   ]
  },
  {
   "cell_type": "code",
   "execution_count": 88,
   "id": "f913f19b",
   "metadata": {},
   "outputs": [],
   "source": [
    "# Creating the Graph\n",
    "\n",
    "graph = Graph()"
   ]
  },
  {
   "cell_type": "code",
   "execution_count": 89,
   "id": "415a7387",
   "metadata": {},
   "outputs": [],
   "source": [
    "# Inserting the Nodes in the Graph\n",
    "\n",
    "graph.addVertex(0)\n",
    "graph.addVertex(1)\n",
    "graph.addVertex(2)\n",
    "graph.addVertex(3)\n",
    "graph.addVertex(4)\n",
    "graph.addVertex(5)\n",
    "graph.addVertex(6)"
   ]
  },
  {
   "cell_type": "code",
   "execution_count": 90,
   "id": "9ee255a0",
   "metadata": {},
   "outputs": [],
   "source": [
    "# Adding the connections in the Graph\n",
    "\n",
    "graph.addEdge(3, 1)\n",
    "graph.addEdge(3, 4)\n",
    "graph.addEdge(4, 2)\n",
    "graph.addEdge(4, 5)\n",
    "graph.addEdge(1, 2)\n",
    "graph.addEdge(1, 0)\n",
    "graph.addEdge(0, 2)\n",
    "graph.addEdge(6, 5) "
   ]
  },
  {
   "cell_type": "code",
   "execution_count": 91,
   "id": "27c04e0e",
   "metadata": {},
   "outputs": [
    {
     "name": "stdout",
     "output_type": "stream",
     "text": [
      "Node Connections in the Graph.\n",
      "0  -->  [1, 2]\n",
      "1  -->  [3, 2, 0]\n",
      "2  -->  [4, 1, 0]\n",
      "3  -->  [1, 4]\n",
      "4  -->  [3, 2, 5]\n",
      "5  -->  [4, 6]\n",
      "6  -->  [5]\n"
     ]
    }
   ],
   "source": [
    "# Display the connections of the Graph\n",
    "\n",
    "graph.showConnections()"
   ]
  }
 ],
 "metadata": {
  "kernelspec": {
   "display_name": "Python 3",
   "language": "python",
   "name": "python3"
  },
  "language_info": {
   "codemirror_mode": {
    "name": "ipython",
    "version": 3
   },
   "file_extension": ".py",
   "mimetype": "text/x-python",
   "name": "python",
   "nbconvert_exporter": "python",
   "pygments_lexer": "ipython3",
   "version": "3.8.8"
  }
 },
 "nbformat": 4,
 "nbformat_minor": 5
}
