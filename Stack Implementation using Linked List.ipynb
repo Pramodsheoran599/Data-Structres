{
 "cells": [
  {
   "cell_type": "markdown",
   "metadata": {},
   "source": [
    "# Python Stack Implementation using Linked List"
   ]
  },
  {
   "cell_type": "code",
   "execution_count": 74,
   "metadata": {},
   "outputs": [],
   "source": [
    "# Node Implementation\n",
    "\n",
    "class node():\n",
    "    def __init__(self, value):\n",
    "        self.value = value\n",
    "        self.next = None"
   ]
  },
  {
   "cell_type": "code",
   "execution_count": 75,
   "metadata": {},
   "outputs": [],
   "source": [
    "# Linked List Implementation\n",
    "\n",
    "class stack():\n",
    "    def __init__(self, value):         \n",
    "        '''When Initialized it will create top node with given value.'''\n",
    "        \n",
    "        self.top = node(value)  \n",
    "        self.length = 1                   # Length stored for quick access instead of looping everytime (Starting with 1).\n",
    "        \n",
    "        \n",
    "    def push(self, value):\n",
    "        '''Push Element to the Stack'''\n",
    "        \n",
    "        current = self.top\n",
    "        new = node(value)\n",
    "        new.next = current\n",
    "        self.top = new\n",
    "        self.length += 1\n",
    "        return None\n",
    "    \n",
    "    \n",
    "    def peak(self):\n",
    "        '''Returns the Top Element of the Stack'''\n",
    "        \n",
    "        if self.length != 0:\n",
    "            return self.top.value\n",
    "        \n",
    "        else:\n",
    "            return None\n",
    "        \n",
    "    \n",
    "    def pop(self):\n",
    "        '''Pops and returns the Top element of the Stack'''\n",
    "        \n",
    "        if self.length != 0:\n",
    "            current = self.top\n",
    "            self.top = current.next\n",
    "            value = current.value\n",
    "            self.length -= 1\n",
    "            del (current)\n",
    "            return value\n",
    "        \n",
    "        else:\n",
    "            return None\n",
    "    \n",
    "    def print_stack(self):\n",
    "        '''Prints the Stack'''\n",
    "        \n",
    "        if self.length != 0:\n",
    "            current = self.top\n",
    "            for i in range(self.length):\n",
    "                print(current.value)\n",
    "                current = current.next\n",
    "            return None\n",
    "        \n",
    "        else:\n",
    "            return None"
   ]
  },
  {
   "cell_type": "code",
   "execution_count": 76,
   "metadata": {},
   "outputs": [
    {
     "name": "stdout",
     "output_type": "stream",
     "text": [
      "3\n",
      "2\n",
      "1\n",
      "None\n"
     ]
    }
   ],
   "source": [
    "s = stack(1)\n",
    "\n",
    "\n",
    "s.push(2)\n",
    "s.push(3)\n",
    "s.push(4)\n",
    "s.pop()\n",
    "\n",
    "print(s.print_stack())"
   ]
  }
 ],
 "metadata": {
  "kernelspec": {
   "display_name": "Python 3",
   "language": "python",
   "name": "python3"
  },
  "language_info": {
   "codemirror_mode": {
    "name": "ipython",
    "version": 3
   },
   "file_extension": ".py",
   "mimetype": "text/x-python",
   "name": "python",
   "nbconvert_exporter": "python",
   "pygments_lexer": "ipython3",
   "version": "3.8.5"
  }
 },
 "nbformat": 4,
 "nbformat_minor": 4
}
