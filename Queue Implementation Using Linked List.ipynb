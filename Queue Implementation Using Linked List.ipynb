{
 "cells": [
  {
   "cell_type": "markdown",
   "metadata": {},
   "source": [
    "# Python Queue Implementation Using Linked List"
   ]
  },
  {
   "cell_type": "code",
   "execution_count": 34,
   "metadata": {},
   "outputs": [],
   "source": [
    "# Node Implementation\n",
    "\n",
    "class Node():\n",
    "    def __init__(self, value):\n",
    "        self.value = value\n",
    "        self.next = None"
   ]
  },
  {
   "cell_type": "code",
   "execution_count": 35,
   "metadata": {},
   "outputs": [],
   "source": [
    "# Queue Implementation\n",
    "\n",
    "class Queue():\n",
    "    '''When Initialized it will create Head node with given value.'''\n",
    "    def __init__(self, value):\n",
    "        self.head = Node(value)\n",
    "        self.tail = self.head\n",
    "        self.length = 1\n",
    "    \n",
    "    \n",
    "    def enqueue(self, value):\n",
    "        '''Add an Element to the queue'''\n",
    "        new = Node(value)\n",
    "        self.tail.next = new\n",
    "        self.tail = new\n",
    "        self.length += 1\n",
    "    \n",
    "    \n",
    "    def dequeue(self):\n",
    "        '''Remove an Element from the front of the queue'''\n",
    "        if self.length != 0:\n",
    "            front = self.head\n",
    "            self.head = front.next\n",
    "            value = front.value\n",
    "            del (front)\n",
    "            self.length -= 1\n",
    "            return value\n",
    "        \n",
    "        else: \n",
    "            return None\n",
    "    \n",
    "    \n",
    "    def peak(self):\n",
    "        '''return the head of the queue'''\n",
    "        if self.length != 0:\n",
    "            return self.head.value\n",
    "        \n",
    "        else: \n",
    "            return None\n",
    "        \n",
    "        \n",
    "    def print_queue(self):\n",
    "        '''Print the Queue'''\n",
    "        if self.length != 0:\n",
    "            current = self.head\n",
    "            \n",
    "            for i in range(self.length):\n",
    "                print(current.value, end = \" > \")\n",
    "                current = current.next\n",
    "        \n",
    "        else: \n",
    "            return None"
   ]
  },
  {
   "cell_type": "code",
   "execution_count": 36,
   "metadata": {},
   "outputs": [
    {
     "name": "stdout",
     "output_type": "stream",
     "text": [
      "Pramod > 3 > 2.3 > 5 > None\n"
     ]
    }
   ],
   "source": [
    "q = Queue(1)\n",
    "\n",
    "q.enqueue(\"Pramod\")\n",
    "q.enqueue(3)\n",
    "q.enqueue(2.3)\n",
    "q.enqueue(5)\n",
    "q.dequeue()\n",
    "\n",
    "print(q.print_queue())"
   ]
  }
 ],
 "metadata": {
  "kernelspec": {
   "display_name": "Python 3",
   "language": "python",
   "name": "python3"
  },
  "language_info": {
   "codemirror_mode": {
    "name": "ipython",
    "version": 3
   },
   "file_extension": ".py",
   "mimetype": "text/x-python",
   "name": "python",
   "nbconvert_exporter": "python",
   "pygments_lexer": "ipython3",
   "version": "3.8.5"
  }
 },
 "nbformat": 4,
 "nbformat_minor": 4
}
