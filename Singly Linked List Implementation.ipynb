{
 "cells": [
  {
   "cell_type": "markdown",
   "metadata": {},
   "source": [
    "# Python Singly Linked List Implementation"
   ]
  },
  {
   "cell_type": "code",
   "execution_count": 113,
   "metadata": {},
   "outputs": [],
   "source": [
    "# Each node in the List containing a value and location of the next node(By Default None)\n",
    "\n",
    "class node():\n",
    "    def __init__(self, value):\n",
    "        self.value = value\n",
    "        self.next = None"
   ]
  },
  {
   "cell_type": "code",
   "execution_count": 114,
   "metadata": {},
   "outputs": [],
   "source": [
    "# Linked List Implementation\n",
    "\n",
    "class Linked_List():\n",
    "    def __init__(self, value):         \n",
    "        '''When Initialized it will create head node with given value.'''\n",
    "        self.head = node(value)           \n",
    "        self.length = 1                   # Length stored for quick access instead of looping everytime (Starting with 1).\n",
    "   \n",
    "    \n",
    "    def append(self, value):\n",
    "        '''Append to the List (End Node).'''\n",
    "        current = self.head\n",
    "        \n",
    "        while current.next:\n",
    "            current = current.next\n",
    "        \n",
    "        current.next = node(value)\n",
    "        self.length += 1                  # Increment Length\n",
    "        return None\n",
    "   \n",
    "\n",
    "    def get_position(self, value): \n",
    "        '''Get Position of the node containing the given value.'''\n",
    "        current = self.head\n",
    "        counter = 1\n",
    "        \n",
    "        while current.value != value:\n",
    "            counter += 1\n",
    "            current = current.next\n",
    "        \n",
    "        return counter\n",
    "    \n",
    "    \n",
    "    def get_element(self, position): \n",
    "        '''Get Value of the node at the given position.'''\n",
    "        current = self.head\n",
    "        \n",
    "        if position > 0 and position <= self.length:\n",
    "            for i in range(1, position):\n",
    "                current = current.next\n",
    "            \n",
    "            return current.value\n",
    "        \n",
    "        else:                             # If position not between correct parameters print Error.\n",
    "            print(\"Error\")\n",
    "            return None\n",
    "        \n",
    "    \n",
    "    def insert(self, value, position): \n",
    "        '''Insert Given Value at the given position.'''\n",
    "        current = self.head\n",
    "        new = node(value)\n",
    "        \n",
    "        if position > 0 and position <= self.length:\n",
    "            for i in range(2, position):                      # range starts from 2 as current node already at head\n",
    "                current = current.next\n",
    "            \n",
    "            new.next = current.next\n",
    "            current.next = new\n",
    "            self.length += 1                                  # Increment Length\n",
    "        \n",
    "        else:\n",
    "            print(\"Error\")\n",
    "            return None\n",
    "    \n",
    "\n",
    "    def del_element(self, value):         \n",
    "        '''Delete a Value from the list ''' \n",
    "        current = self.head\n",
    "        \n",
    "        while current.next.value != value:\n",
    "            current = current.next\n",
    "        \n",
    "        del_node = current.next\n",
    "        current.next = del_node.next\n",
    "        del(del_node)\n",
    "        \n",
    "        self.length -= 1                                    # Decrement Length\n",
    "        return None\n",
    "    \n",
    "    \n",
    "    def del_position(self, position):    \n",
    "        '''Delete the Node at the given position'''\n",
    "        current = self.head\n",
    "        \n",
    "        for i in range(2, position):                        # range starts from 2 as current node already at head\n",
    "            current = current.next\n",
    "        \n",
    "        del_node = current.next\n",
    "        current.next = del_node.next\n",
    "        del(del_node)\n",
    "        \n",
    "        self.length -= 1                                  # Decrement Length\n",
    "        return None\n",
    "        \n",
    "    def get_list(self):                  \n",
    "        '''Returning a List of all the Values in the Linked List.'''\n",
    "        current = self.head\n",
    "        output = []\n",
    "        \n",
    "        for i in range(self.length):\n",
    "            output.append(current.value)\n",
    "            current = current.next\n",
    "            \n",
    "        return output"
   ]
  },
  {
   "cell_type": "code",
   "execution_count": 115,
   "metadata": {},
   "outputs": [
    {
     "data": {
      "text/plain": [
       "[1, 2, 3, 5]"
      ]
     },
     "execution_count": 115,
     "metadata": {},
     "output_type": "execute_result"
    }
   ],
   "source": [
    "ll = Linked_List(1)\n",
    "\n",
    "ll.append(2)\n",
    "ll.append(3)\n",
    "ll.append(4)\n",
    "ll.append(5)\n",
    "\n",
    "ll.del_position(4)\n",
    "\n",
    "ll.get_list()"
   ]
  }
 ],
 "metadata": {
  "kernelspec": {
   "display_name": "Python 3",
   "language": "python",
   "name": "python3"
  },
  "language_info": {
   "codemirror_mode": {
    "name": "ipython",
    "version": 3
   },
   "file_extension": ".py",
   "mimetype": "text/x-python",
   "name": "python",
   "nbconvert_exporter": "python",
   "pygments_lexer": "ipython3",
   "version": "3.8.5"
  },
  "toc": {
   "base_numbering": 1,
   "nav_menu": {},
   "number_sections": true,
   "sideBar": true,
   "skip_h1_title": false,
   "title_cell": "Table of Contents",
   "title_sidebar": "Contents",
   "toc_cell": false,
   "toc_position": {},
   "toc_section_display": true,
   "toc_window_display": false
  },
  "varInspector": {
   "cols": {
    "lenName": 16,
    "lenType": 16,
    "lenVar": 40
   },
   "kernels_config": {
    "python": {
     "delete_cmd_postfix": "",
     "delete_cmd_prefix": "del ",
     "library": "var_list.py",
     "varRefreshCmd": "print(var_dic_list())"
    },
    "r": {
     "delete_cmd_postfix": ") ",
     "delete_cmd_prefix": "rm(",
     "library": "var_list.r",
     "varRefreshCmd": "cat(var_dic_list()) "
    }
   },
   "types_to_exclude": [
    "module",
    "function",
    "builtin_function_or_method",
    "instance",
    "_Feature"
   ],
   "window_display": false
  }
 },
 "nbformat": 4,
 "nbformat_minor": 4
}
